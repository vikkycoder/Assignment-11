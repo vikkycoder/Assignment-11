{
 "cells": [
  {
   "cell_type": "raw",
   "id": "7c6b7b95-b643-4a79-ba3a-e371772f99f9",
   "metadata": {},
   "source": [
    "Q1. What is multiprocessing in python? Why is it useful?"
   ]
  },
  {
   "cell_type": "raw",
   "id": "f8614aa4-2c41-4f3c-892f-01bcae30b309",
   "metadata": {},
   "source": [
    "#Ans.\n",
    "Multiprocessing in Python refers to the capability of running multiple processes simultaneously to execute tasks in parallel. It allows the utilization of multiple CPU cores or processors to execute code concurrently, thereby improving performance and taking advantage of available hardware resources.\n",
    "\n",
    "uses\n",
    "1.Improved Performance: By utilizing multiple processes, multiprocessing enables parallel execution of tasks. This can significantly improve performance, especially for computationally intensive or I/O-bound tasks, as the workload is distributed among multiple processors.\n",
    "\n",
    "2.CPU Utilization: Multiprocessing allows efficient utilization of multiple CPU cores or processors. It can fully leverage the available hardware resources, maximizing CPU usage and reducing the overall execution time.\n",
    "\n",
    "3.Scalability: Multiprocessing provides a scalable solution, as it can distribute workloads across multiple processes. It is particularly beneficial in scenarios where tasks can be easily divided into independent units that can be executed in parallel."
   ]
  },
  {
   "cell_type": "raw",
   "id": "7bb2b2d7-a299-46e7-adcd-42d5458e3d25",
   "metadata": {},
   "source": [
    "Q2. What are the differences between multiprocessing and multithreading?"
   ]
  },
  {
   "cell_type": "raw",
   "id": "9f35dfee-a679-4e56-ac93-eb368e4e2124",
   "metadata": {},
   "source": [
    "#Ans.\n",
    "Process vs. Thread:\n",
    "\n",
    "1.Multiprocessing: In multiprocessing, multiple processes are created, and each process runs in a separate memory space. Processes do not share memory by default and require explicit communication mechanisms like inter-process communication (IPC) to share data.\n",
    "\n",
    "Multithreading: In multithreading, multiple threads are created within a single process. Threads share the same memory space, allowing for direct access to shared data and variables without explicit communication mechanisms.\n",
    "\n",
    "2.Multiprocessing: Each process has its own system resources, such as memory space, file descriptors, and CPU registers. Resources are allocated per process, and each process operates independently.\n",
    "\n",
    "Multithreading: Threads within a process share the same system resources. Threads have access to the same memory space, file descriptors, and CPU registers of the parent process. Thread creation and context switching are generally faster than process creation and switching."
   ]
  },
  {
   "cell_type": "raw",
   "id": "55c107e4-2d55-4ba5-938d-d0a12ab9ab27",
   "metadata": {},
   "source": [
    "Q3. Write a python code to create a process using the multiprocessing module."
   ]
  },
  {
   "cell_type": "code",
   "execution_count": 2,
   "id": "f137823a-ef2d-4d9c-9034-926e6a176d0a",
   "metadata": {},
   "outputs": [
    {
     "name": "stdout",
     "output_type": "stream",
     "text": [
      "Hello, Alice!\n",
      "Process completed.\n"
     ]
    }
   ],
   "source": [
    "#Ans.\n",
    "\n",
    "import multiprocessing\n",
    "\n",
    "def process_function(name):\n",
    "    print(f\"Hello, {name}!\")\n",
    "\n",
    "if __name__ == '__main__':\n",
    "    process = multiprocessing.Process(target=process_function, args=('Alice',))\n",
    "    process.start()\n",
    "    process.join()\n",
    "\n",
    "    print(\"Process completed.\")"
   ]
  },
  {
   "cell_type": "raw",
   "id": "4d35f0e6-d2c4-4835-99fa-aff4b659c3ab",
   "metadata": {},
   "source": [
    "Q4. What is a multiprocessing pool in python? Why is it used?"
   ]
  },
  {
   "cell_type": "raw",
   "id": "2dda4a83-1826-4f6a-b660-32a964d567cc",
   "metadata": {},
   "source": [
    "#Ans.\n",
    "In Python, a multiprocessing pool is a mechanism provided by the multiprocessing module that allows the execution of tasks concurrently by distributing them across a pool of worker processes. It provides a high-level interface for parallel processing and simplifies the management of multiple processes.\n",
    "\n",
    "uses\n",
    "\n",
    "1.Parallel Execution: The primary purpose of using a multiprocessing pool is to achieve parallel execution of tasks. By utilizing multiple worker processes, tasks can be executed concurrently, leveraging the available CPU cores or processors. This can significantly speed up the processing of a large number of tasks or computationally intensive operations.\n",
    "\n",
    "2.Load Distribution: The pool distributes the workload evenly across the available worker processes. It automatically assigns tasks to idle processes, ensuring that the computational load is balanced across the processes. This helps maximize the utilization of system resources and optimize overall performance."
   ]
  },
  {
   "cell_type": "raw",
   "id": "c706b8b0-5737-4124-969b-3d59f123215c",
   "metadata": {},
   "source": [
    "Q5. How can we create a pool of worker processes in python using the multiprocessing module?"
   ]
  },
  {
   "cell_type": "code",
   "execution_count": 3,
   "id": "08d95c8b-1b3a-41a7-a53f-db617f26a4f1",
   "metadata": {},
   "outputs": [
    {
     "name": "stdout",
     "output_type": "stream",
     "text": [
      "Hello, Alice!\n",
      "Hello, Bob!\n",
      "Hello, Charlie!\n",
      "All tasks completed.\n"
     ]
    }
   ],
   "source": [
    "#Ans.\n",
    "import multiprocessing\n",
    "\n",
    "def process_function(name):\n",
    "    return f\"Hello, {name}!\"\n",
    "\n",
    "if __name__ == '__main__':\n",
    "    \n",
    "    pool = multiprocessing.Pool(processes=3)\n",
    "\n",
    "    \n",
    "    results = []\n",
    "    results.append(pool.apply_async(process_function, args=('Alice',)))\n",
    "    results.append(pool.apply_async(process_function, args=('Bob',)))\n",
    "    results.append(pool.apply_async(process_function, args=('Charlie',)))\n",
    "\n",
    "    \n",
    "    pool.close()\n",
    "    pool.join()\n",
    "\n",
    "    for result in results:\n",
    "        print(result.get())\n",
    "\n",
    "    print(\"All tasks completed.\")\n"
   ]
  },
  {
   "cell_type": "raw",
   "id": "f4b3bcc0-70f3-457e-bb2d-38e7ae0da1cd",
   "metadata": {},
   "source": [
    "Q6. Write a python program to create 4 processes, each process should print a different number using the\n",
    "multiprocessing module in python."
   ]
  },
  {
   "cell_type": "code",
   "execution_count": 4,
   "id": "6a4823dc-48c5-4b6d-95fc-54d43c242245",
   "metadata": {},
   "outputs": [
    {
     "name": "stdout",
     "output_type": "stream",
     "text": [
      "Process 1: 1\n",
      "Process 2: 2\n",
      "Process 3: 3\n",
      "Process 4: 4\n"
     ]
    }
   ],
   "source": [
    "#Ans.\n",
    "import multiprocessing\n",
    "\n",
    "def print_number(number):\n",
    "    print(f\"Process {number}: {number}\")\n",
    "\n",
    "if __name__ == '__main__':\n",
    "    processes = []\n",
    "    \n",
    "    for i in range(1, 5):\n",
    "        process = multiprocessing.Process(target=print_number, args=(i,))\n",
    "        processes.append(process)\n",
    "        process.start()\n",
    "\n",
    "    for process in processes:\n",
    "        process.join()\n"
   ]
  },
  {
   "cell_type": "code",
   "execution_count": null,
   "id": "c7640815-2a80-4a11-becb-a578a61199b1",
   "metadata": {},
   "outputs": [],
   "source": []
  }
 ],
 "metadata": {
  "kernelspec": {
   "display_name": "Python 3 (ipykernel)",
   "language": "python",
   "name": "python3"
  },
  "language_info": {
   "codemirror_mode": {
    "name": "ipython",
    "version": 3
   },
   "file_extension": ".py",
   "mimetype": "text/x-python",
   "name": "python",
   "nbconvert_exporter": "python",
   "pygments_lexer": "ipython3",
   "version": "3.10.8"
  }
 },
 "nbformat": 4,
 "nbformat_minor": 5
}
